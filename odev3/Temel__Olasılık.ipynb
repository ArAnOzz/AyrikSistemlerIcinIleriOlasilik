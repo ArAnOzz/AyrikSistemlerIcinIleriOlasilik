{
  "nbformat": 4,
  "nbformat_minor": 0,
  "metadata": {
    "colab": {
      "name": "Temel _Olasılık.ipynb",
      "provenance": [],
      "collapsed_sections": [],
      "toc_visible": true,
      "authorship_tag": "ABX9TyPkqwIgmYRqXF8RKxjCW3JH",
      "include_colab_link": true
    },
    "kernelspec": {
      "name": "python3",
      "display_name": "Python 3"
    },
    "language_info": {
      "name": "python"
    }
  },
  "cells": [
    {
      "cell_type": "markdown",
      "metadata": {
        "id": "view-in-github",
        "colab_type": "text"
      },
      "source": [
        "<a href=\"https://colab.research.google.com/github/ArAnOzz/AyrikSistemlerIcinIleriOlasilik/blob/main/odev3/Temel__Olas%C4%B1l%C4%B1k.ipynb\" target=\"_parent\"><img src=\"https://colab.research.google.com/assets/colab-badge.svg\" alt=\"Open In Colab\"/></a>"
      ]
    },
    {
      "cell_type": "code",
      "execution_count": 1,
      "metadata": {
        "id": "fLfgPEAEPL4D"
      },
      "outputs": [],
      "source": [
        "def faktoriyel(number):\n",
        "  faktoriyel = 1\n",
        "  if number < 0:\n",
        "    return \"error\"\n",
        "  elif number == 0:\n",
        "    return 1\n",
        "  else:\n",
        "    for x in range(1,number + 1):\n",
        "      faktoriyel = faktoriyel*x\n",
        "    return faktoriyel\n",
        "\n",
        "def kombinasyon(a,b):\n",
        "    if (b > a):\n",
        "        return \"Error\"\n",
        "    else:\n",
        "        return faktoriyel(a) / (faktoriyel(a-b) * faktoriyel(b))\n"
      ]
    },
    {
      "cell_type": "markdown",
      "source": [
        "# Permutasyonlu Olasılık\n",
        "**Soru**: 5 evli çift yanyana dizilecektir. Bu dizilimde eşlerin yanyana olma olasığı nedir?"
      ],
      "metadata": {
        "id": "efAbCXYVS1Lg"
      }
    },
    {
      "cell_type": "markdown",
      "source": [
        "**Çözüm:**\n",
        "\n",
        "Örnek uzay: 10 kişinin yanyana dizilmesi = 10!\n",
        "\n",
        "İstenilen olay: Dizilimde eşlerin yanyana olması: 5! * 5 * 2!\n",
        "\n",
        "Olasılık değeri= İstenilen Olay/ Örnek Uzay"
      ],
      "metadata": {
        "id": "KIPKCa6tTtyX"
      }
    },
    {
      "cell_type": "code",
      "source": [
        "ou=faktoriyel(10)\n",
        "print('Örnek Uzay: '+str(ou))\n",
        "io=faktoriyel(5)*5*faktoriyel(2)\n",
        "print('İstenilen Olay: '+ str(io))\n",
        "od=io/ou\n",
        "print('Olasılık Değeri: ' +str(od))"
      ],
      "metadata": {
        "colab": {
          "base_uri": "https://localhost:8080/"
        },
        "id": "gDusdmHlSvO3",
        "outputId": "3aaaece5-969e-4bda-cd5a-493175135f43"
      },
      "execution_count": 4,
      "outputs": [
        {
          "output_type": "stream",
          "name": "stdout",
          "text": [
            "Örnek Uzay: 3628800\n",
            "İstenilen Olay: 1200\n",
            "Olasılık Değeri: 0.00033068783068783067\n"
          ]
        }
      ]
    },
    {
      "cell_type": "markdown",
      "source": [
        "**Soru**: 1,1,2,2,3,3,4,5,6 sayıları yerdeğiştirilerek 9 basamaklı sayılar oluşturulacaktır.Bu sayıların 1 ile başlayıp 1 ile bitme olasılığı nedir?"
      ],
      "metadata": {
        "id": "MysFpSGZVhWV"
      }
    },
    {
      "cell_type": "markdown",
      "source": [
        "**Çözüm**:\n",
        "\n",
        "Örnek Uzay: 9!/(2! * 2! * 2!)\n",
        "\n",
        "İstenilen Olay: 7!/(2! * 2!)\n",
        "\n",
        "Olasılık Değeri: İstenilen Olay/ Örnek Uzay"
      ],
      "metadata": {
        "id": "HNgi0mwyZ7wr"
      }
    },
    {
      "cell_type": "code",
      "source": [
        "ou= faktoriyel(9)/(faktoriyel(2)*faktoriyel(2)*faktoriyel(2))\n",
        "print('Örnek Uzay: '+str(ou))\n",
        "io=faktoriyel(7)/(faktoriyel(2)*faktoriyel(2))\n",
        "print('İstenilen Olay: '+ str(io))\n",
        "od=io/ou\n",
        "print('Olasılık Değeri: ' +str(od))\n"
      ],
      "metadata": {
        "colab": {
          "base_uri": "https://localhost:8080/"
        },
        "id": "iKUPIntyaloX",
        "outputId": "00085835-a2c5-456e-94d2-3fa6a6ad36c6"
      },
      "execution_count": 5,
      "outputs": [
        {
          "output_type": "stream",
          "name": "stdout",
          "text": [
            "Örnek Uzay: 45360.0\n",
            "İstenilen Olay: 1260.0\n",
            "Olasılık Değeri: 0.027777777777777776\n"
          ]
        }
      ]
    },
    {
      "cell_type": "markdown",
      "source": [
        "# Kombinasyonlu Olasılık\n",
        "**Soru**: A sınıfında 10 öğrenci, B sınıfnda 8 öğrenci ve C sınıfında 5 öğrenci vardır. Bilgi yarışması için 4 kişilik ekip kurulacaktır. A sınıfından 2 öğrenci diğer sınıflardan 1 öğrenci seçilme olasılığı nedir?"
      ],
      "metadata": {
        "id": "Rupzgi8QcPeN"
      }
    },
    {
      "cell_type": "markdown",
      "source": [
        "**Çözüm**:\n",
        "\n",
        "Örnek Uzay: kombinasyon(23,4)\n",
        "\n",
        "İstenilen Olay: kombinasyon(10,2) * kombinasyon(8,1) * kombinasyon(5,1)\n",
        "\n",
        "Olasılık Değeri: İstenilen Olay/ Örnek Uzay"
      ],
      "metadata": {
        "id": "EOEPTTNiyTx1"
      }
    },
    {
      "cell_type": "code",
      "source": [
        "ou= kombinasyon(23,4)\n",
        "print('Örnek Uzay: '+str(ou))\n",
        "io=kombinasyon(10,2)*kombinasyon(8,1)*kombinasyon(5,1)\n",
        "print('İstenilen Olay: '+ str(io))\n",
        "od=io/ou\n",
        "print('Olasılık Değeri: ' +str(od))"
      ],
      "metadata": {
        "colab": {
          "base_uri": "https://localhost:8080/"
        },
        "id": "3xNy-dz3ysPn",
        "outputId": "14a56e11-aae4-46fc-83bf-1aec72f3da76"
      },
      "execution_count": 6,
      "outputs": [
        {
          "output_type": "stream",
          "name": "stdout",
          "text": [
            "Örnek Uzay: 8855.0\n",
            "İstenilen Olay: 1800.0\n",
            "Olasılık Değeri: 0.20327498588368154\n"
          ]
        }
      ]
    },
    {
      "cell_type": "markdown",
      "source": [
        "**Soru:** Otomatik şifre oluşturucu 0 dan 9a kadar rakamları ve (!),(*),(%),(/) özel karakterlerinden her birini 1 kere kullanarak 5 karakterli rasgele bir şifre oluşturmaktadır. Oluşturulan şifrede 3 rakam ve 2 özel karakter olma olasılığı nedir?"
      ],
      "metadata": {
        "id": "t2a0xA6nzQ6i"
      }
    },
    {
      "cell_type": "markdown",
      "source": [
        "Çözüm:\n",
        "\n",
        "Örnek Uzay: kombinasyon(14,5)\n",
        "\n",
        "İstenilen Olay: kombinasyon(10,3) * kombinasyon(4,2)\n",
        "\n",
        "Olasılık Değeri: İstenilen Olay/ Örnek Uzay"
      ],
      "metadata": {
        "id": "BziadwFh0-P7"
      }
    },
    {
      "cell_type": "code",
      "source": [
        "ou= kombinasyon(14,5)\n",
        "print('Örnek Uzay: '+str(ou))\n",
        "io=kombinasyon(10,3)*kombinasyon(4,2)\n",
        "print('İstenilen Olay: '+ str(io))\n",
        "od=io/ou\n",
        "print('Olasılık Değeri: ' +str(od))"
      ],
      "metadata": {
        "colab": {
          "base_uri": "https://localhost:8080/"
        },
        "id": "z1Oxyiok1O46",
        "outputId": "5bcdb76d-50d7-4320-a5e7-f577f988eea9"
      },
      "execution_count": 7,
      "outputs": [
        {
          "output_type": "stream",
          "name": "stdout",
          "text": [
            "Örnek Uzay: 2002.0\n",
            "İstenilen Olay: 720.0\n",
            "Olasılık Değeri: 0.3596403596403596\n"
          ]
        }
      ]
    }
  ]
}