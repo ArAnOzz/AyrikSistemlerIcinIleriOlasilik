{
  "nbformat": 4,
  "nbformat_minor": 0,
  "metadata": {
    "colab": {
      "name": "Kosullu_Olasilik_Bayes.ipynb",
      "provenance": [],
      "collapsed_sections": [],
      "authorship_tag": "ABX9TyPEkFbcG7aBnLZSOBQZCc9m",
      "include_colab_link": true
    },
    "kernelspec": {
      "name": "python3",
      "display_name": "Python 3"
    },
    "language_info": {
      "name": "python"
    }
  },
  "cells": [
    {
      "cell_type": "markdown",
      "metadata": {
        "id": "view-in-github",
        "colab_type": "text"
      },
      "source": [
        "<a href=\"https://colab.research.google.com/github/ArAnOzz/AyrikSistemlerIcinIleriOlasilik/blob/main/odev4/Kosullu_Olasilik_Bayes.ipynb\" target=\"_parent\"><img src=\"https://colab.research.google.com/assets/colab-badge.svg\" alt=\"Open In Colab\"/></a>"
      ]
    },
    {
      "cell_type": "markdown",
      "source": [
        "# Koşullu Olasılık\n",
        "\n",
        "**Soru:**  Bir çift zar atılıyor. Atılan zarların 3 ten büyük olduğu biliniyor. İki zarında çift sayıda olma olasığılı kaçtır?\n",
        "\n",
        "**Çözüm:** \n",
        "\n",
        "Örnek Uzay: 36\n",
        "\n",
        "Koşullu Uzay: (4,4) (4,5) (4,6) (5,4) (5,5) (5,6) (6,4) (6,5) (6,6) = 9\n",
        "\n",
        "İki zarında çift olması: (4,4) (4,6) (6,4) (6,6) = 4 \n",
        "\n",
        "P(A) = 4/36\n",
        "\n",
        "P(B) = 9/36\n",
        "\n",
        "P(A/B)= 4/36 / 9/36 = 4/9\n"
      ],
      "metadata": {
        "id": "A8AFRDfwysjy"
      }
    },
    {
      "cell_type": "code",
      "execution_count": 7,
      "metadata": {
        "id": "xSJPFs_MyQdf",
        "colab": {
          "base_uri": "https://localhost:8080/"
        },
        "outputId": "9a53f049-abc6-4b88-d3d3-0259d31e0778"
      },
      "outputs": [
        {
          "output_type": "execute_result",
          "data": {
            "text/plain": [
              "0.4444444444444444"
            ]
          },
          "metadata": {},
          "execution_count": 7
        }
      ],
      "source": [
        "def kosulluOlasılık(U, A, B):\n",
        "  pA = A / U\n",
        "  pB = B / U\n",
        "  pAnB = pA\n",
        "  pAB = pAnB / pB\n",
        " \n",
        "  return pAB\n",
        "\n",
        "kosulluOlasılık(36,4,9)"
      ]
    },
    {
      "cell_type": "markdown",
      "source": [
        "# Bayes\n",
        "\n",
        "Soru1:\n",
        "\n",
        "100 kişi covid19 testi yaptırmıştır. Covid19 testi yaptıran kişilerin %30 u pozitif çıkmaktadır. Sağlıklı bir kişinin pozitif çıkma ihtimali %30dur. Hastalıklı bir kişinin pozitif çıkma ihtimali ise %90 dır. Buna göre covid19 testi poztif olan bir kişini hasta olma ihtimali nedir.\n",
        "\n",
        "Çözüm:\n",
        "\n",
        "P(A) : Hasta olması olasılığı = 0.3\n",
        "\n",
        "P(B) : Testin pozitif çıkması olasılığı = 0.3 * 0.9 + 0.7 * 0.3 = 0.48\n",
        "\n",
        "P(A\\B) : Pozitif çıkan testin hastalık çıkma olasılığı\n",
        "\n",
        "P(B\\A) : Hastalıklı kişinin testinin pozitif çıkma olasılığı = 0.9\n",
        "\n",
        "P(A\\B)=P(B\\A) * P(A)/P(B) => (0.9) * (0.3) / (0.48) = 0.5625 = %56,25 bulunur."
      ],
      "metadata": {
        "id": "yPcpwZNJCJT3"
      }
    },
    {
      "cell_type": "code",
      "source": [
        "def bayes(pA, pB, pBA):\n",
        "  return (pA * pBA) / pB\n",
        "\n",
        "pA = 0.3\n",
        "pAd=0.7\n",
        "NP = 0.3\n",
        "PP = 0.9\n",
        "pB= pA * PP + pAd * NP\n",
        "\n",
        "print(bayes(pA, pB, PP))"
      ],
      "metadata": {
        "colab": {
          "base_uri": "https://localhost:8080/"
        },
        "id": "tVlEg3T0CI1A",
        "outputId": "5eea9851-11ca-48af-dce6-0516db18de0d"
      },
      "execution_count": 5,
      "outputs": [
        {
          "output_type": "stream",
          "name": "stdout",
          "text": [
            "0.5625000000000001\n"
          ]
        }
      ]
    }
  ]
}