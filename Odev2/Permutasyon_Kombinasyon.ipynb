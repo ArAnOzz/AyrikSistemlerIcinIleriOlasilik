{
  "nbformat": 4,
  "nbformat_minor": 0,
  "metadata": {
    "colab": {
      "name": "Permutasyon_Kombinasyon.ipynb",
      "provenance": [],
      "collapsed_sections": [],
      "authorship_tag": "ABX9TyOL6J6zVt/mOCnA1Sgkg4Ha",
      "include_colab_link": true
    },
    "kernelspec": {
      "name": "python3",
      "display_name": "Python 3"
    },
    "language_info": {
      "name": "python"
    }
  },
  "cells": [
    {
      "cell_type": "markdown",
      "metadata": {
        "id": "view-in-github",
        "colab_type": "text"
      },
      "source": [
        "<a href=\"https://colab.research.google.com/github/ArAnOzz/AyrikSistemlerIcinIleriOlasilik/blob/main/Odev2/Permutasyon_Kombinasyon.ipynb\" target=\"_parent\"><img src=\"https://colab.research.google.com/assets/colab-badge.svg\" alt=\"Open In Colab\"/></a>"
      ]
    },
    {
      "cell_type": "markdown",
      "source": [
        "# Permutasyon\n",
        "n ve r birer doğal sayı ve r ≤ n olmak üzere n elemanlı bir kümenin birbirinden farklı r tane elemanından oluşan dizilişlerin her birine n’nin r’li permütasyonu (dizilişi) denir.\n",
        "\n",
        "n elemanlı bir kümenin r’li permütasyonlarının sayısı P (n, r) ile gösterilir.\n",
        "\n",
        "P (n,r) = n!(n−r)! şeklinde hesaplanır.\n",
        "# Kombinasyon\n",
        "n ve r birer doğal sayı ve r ≤ n olmak üzere n elemanlı bir kümenin r elemanlı alt kümelerinin her birine n’nin r’li kombinasyonu denir.\n",
        "\n",
        "n elemanlı bir kümenin r’li kombinasyonlarının (r elemanlı alt kümelerinin) sayısı C (n, r) ya da (nr) gösterilir.\n",
        "\n",
        "C (n,r) = n!(n−r)!.r! şeklinde hesaplanır."
      ],
      "metadata": {
        "id": "c17ac7fksICD"
      }
    },
    {
      "cell_type": "code",
      "execution_count": 2,
      "metadata": {
        "id": "lnWMd6WusELN"
      },
      "outputs": [],
      "source": [
        "def factorial(number):\n",
        "  factorial = 1\n",
        "  if number < 0:\n",
        "    return \"error\"\n",
        "  elif number == 0:\n",
        "    return 1\n",
        "  else:\n",
        "    for x in range(1,number + 1):\n",
        "      factorial = factorial*x\n",
        "    return factorial\n",
        "\n",
        "def kombinasyon(a,b):\n",
        "    if (b > a):\n",
        "        return \"Error\"\n",
        "    else:\n",
        "        return factorial(a) / (factorial(a-b) * factorial(b))\n",
        "\n",
        "def permutasyon(a,b):\n",
        "    if (b > a):\n",
        "        return \"Error\"\n",
        "    else:\n",
        "        return factorial(a) / factorial(a-b)"
      ]
    },
    {
      "cell_type": "markdown",
      "source": [
        "**Permutasyon Problemi**\n",
        "\n",
        "3 farklı oyuncak 7 çocuğa, her çocukta en fazla bir oyuncak olması koşuluyla kaç farklı biçimde dağıtılabilir ?"
      ],
      "metadata": {
        "id": "gre4ksFett7a"
      }
    },
    {
      "cell_type": "code",
      "source": [
        "permutasyon(7,3)"
      ],
      "metadata": {
        "colab": {
          "base_uri": "https://localhost:8080/"
        },
        "id": "c_V2ZY3iuVva",
        "outputId": "c39d9ff4-faca-45db-c9b7-3648eef8a469"
      },
      "execution_count": 3,
      "outputs": [
        {
          "output_type": "execute_result",
          "data": {
            "text/plain": [
              "210.0"
            ]
          },
          "metadata": {},
          "execution_count": 3
        }
      ]
    },
    {
      "cell_type": "markdown",
      "source": [
        "**Kombinasyon Problemi**\n",
        "\n",
        "K, L, M, N, P, R gibi altı değişik seçmeli dersten K ve L dersleri aynı saatte verilmektedir.\n",
        "Bu altı dersten üçünü seçmek isteyen bir öğrencinin bu durumda kaç seçeneği vardır?\n"
      ],
      "metadata": {
        "id": "8V20T_javjc6"
      }
    },
    {
      "cell_type": "code",
      "source": [
        "kombinasyon(4,2)*kombinasyon(2,1)+kombinasyon(4,3)"
      ],
      "metadata": {
        "colab": {
          "base_uri": "https://localhost:8080/"
        },
        "id": "OqsNNYKEvq1A",
        "outputId": "c5518d4d-2433-4db4-ae83-a516e8b18818"
      },
      "execution_count": 4,
      "outputs": [
        {
          "output_type": "execute_result",
          "data": {
            "text/plain": [
              "16.0"
            ]
          },
          "metadata": {},
          "execution_count": 4
        }
      ]
    }
  ]
}