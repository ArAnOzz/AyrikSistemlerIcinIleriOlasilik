{
  "nbformat": 4,
  "nbformat_minor": 0,
  "metadata": {
    "colab": {
      "name": "Guvercin-Yasasi.ipynb",
      "provenance": [],
      "collapsed_sections": [],
      "authorship_tag": "ABX9TyOwTyLNwosR2IbhJX1F9DDk",
      "include_colab_link": true
    },
    "kernelspec": {
      "name": "python3",
      "display_name": "Python 3"
    },
    "language_info": {
      "name": "python"
    }
  },
  "cells": [
    {
      "cell_type": "markdown",
      "metadata": {
        "id": "view-in-github",
        "colab_type": "text"
      },
      "source": [
        "<a href=\"https://colab.research.google.com/github/ArAnOzz/AyrikSistemlerIcinIleriOlasilik/blob/main/Odev1/Guvercin_Yasasi.ipynb\" target=\"_parent\"><img src=\"https://colab.research.google.com/assets/colab-badge.svg\" alt=\"Open In Colab\"/></a>"
      ]
    },
    {
      "cell_type": "markdown",
      "source": [
        "# **Güvercin Yuvası**\n",
        "**Problem:**İstanbul’da yaşayan iki kel olmayan insanın kafalarındaki saç miktarı aynı mıdır?\n",
        "\n",
        "İnsan kafası birkaç yüz bin saça ev sahipliği yapabilir fakat en fazla 500.000 tane saça ev sahipliği yapabilir. Fakat İstanbul’da yaşayan 15 milyon insan vardır. 500.00 tane yuva, 15 milyon tane güvercin olarak düşünürsek önerme kanıtlanır."
      ],
      "metadata": {
        "id": "jydHTJDahTn3"
      }
    },
    {
      "cell_type": "code",
      "execution_count": 1,
      "metadata": {
        "colab": {
          "base_uri": "https://localhost:8080/"
        },
        "id": "-yVbcdfNbw6R",
        "outputId": "072190e0-6432-47b0-d93f-7eb38b8066aa"
      },
      "outputs": [
        {
          "output_type": "stream",
          "name": "stdout",
          "text": [
            "En az : 300 kisinin kafalarındaki saç miktarı aynıdır.\n"
          ]
        }
      ],
      "source": [
        "import math\n",
        "\n",
        "n = 15000000 #guvercin sayisi\n",
        "k = 50000 #yuva sayisi\n",
        "m = n/k #yuva basina düsen guvercin sayisi\n",
        "sonuc = math.ceil(m)\n",
        "print(\"En az :\",sonuc,\"kisinin kafalarındaki saç miktarı aynıdır.\")"
      ]
    }
  ]
}