{
  "nbformat": 4,
  "nbformat_minor": 0,
  "metadata": {
    "colab": {
      "name": "Guvercin-Yasasi.ipynb",
      "provenance": [],
      "authorship_tag": "ABX9TyP2hw5CIFvvXN0S5ek4ANTs",
      "include_colab_link": true
    },
    "kernelspec": {
      "name": "python3",
      "display_name": "Python 3"
    },
    "language_info": {
      "name": "python"
    }
  },
  "cells": [
    {
      "cell_type": "markdown",
      "metadata": {
        "id": "view-in-github",
        "colab_type": "text"
      },
      "source": [
        "<a href=\"https://colab.research.google.com/github/ArAnOzz/AyrikSistemlerIcinIleriOlasilik/blob/main/Odev1/Guvercin_Yasasi.ipynb\" target=\"_parent\"><img src=\"https://colab.research.google.com/assets/colab-badge.svg\" alt=\"Open In Colab\"/></a>"
      ]
    },
    {
      "cell_type": "code",
      "execution_count": 1,
      "metadata": {
        "colab": {
          "base_uri": "https://localhost:8080/"
        },
        "id": "-yVbcdfNbw6R",
        "outputId": "baa93917-f427-4cf3-cd57-41a08ba8bf32"
      },
      "outputs": [
        {
          "output_type": "stream",
          "name": "stdout",
          "text": [
            "deneme\n"
          ]
        }
      ],
      "source": [
        "print(\"deneme\")"
      ]
    }
  ]
}